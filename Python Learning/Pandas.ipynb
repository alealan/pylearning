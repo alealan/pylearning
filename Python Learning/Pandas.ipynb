{
 "cells": [
  {
   "cell_type": "code",
   "execution_count": 76,
   "metadata": {},
   "outputs": [],
   "source": [
    "import pandas as pd\n",
    "import numpy as np"
   ]
  },
  {
   "cell_type": "code",
   "execution_count": 77,
   "metadata": {},
   "outputs": [
    {
     "data": {
      "text/plain": [
       "0     5\n",
       "1     6\n",
       "2     7\n",
       "3     8\n",
       "4     9\n",
       "5    10\n",
       "dtype: int64"
      ]
     },
     "execution_count": 77,
     "metadata": {},
     "output_type": "execute_result"
    }
   ],
   "source": [
    "my_series = pd.Series([5, 6, 7, 8, 9, 10])\n",
    "my_series"
   ]
  },
  {
   "cell_type": "code",
   "execution_count": 78,
   "metadata": {},
   "outputs": [
    {
     "data": {
      "text/plain": [
       "RangeIndex(start=0, stop=6, step=1)"
      ]
     },
     "execution_count": 78,
     "metadata": {},
     "output_type": "execute_result"
    }
   ],
   "source": [
    "my_series.index"
   ]
  },
  {
   "cell_type": "code",
   "execution_count": 79,
   "metadata": {},
   "outputs": [
    {
     "data": {
      "text/plain": [
       "array([ 5,  6,  7,  8,  9, 10], dtype=int64)"
      ]
     },
     "execution_count": 79,
     "metadata": {},
     "output_type": "execute_result"
    }
   ],
   "source": [
    "my_series.values"
   ]
  },
  {
   "cell_type": "code",
   "execution_count": 80,
   "metadata": {},
   "outputs": [
    {
     "data": {
      "text/plain": [
       "a     5\n",
       "b     6\n",
       "c     7\n",
       "d     8\n",
       "g     9\n",
       "h    10\n",
       "dtype: int64"
      ]
     },
     "execution_count": 80,
     "metadata": {},
     "output_type": "execute_result"
    }
   ],
   "source": [
    "my_series2 = pd.Series([5, 6, 7, 8, 9, 10], index=['a', 'b', 'c', 'd', 'g', 'h'])\n",
    "my_series2"
   ]
  },
  {
   "cell_type": "code",
   "execution_count": 81,
   "metadata": {},
   "outputs": [
    {
     "data": {
      "text/plain": [
       "4    9\n",
       "dtype: int64"
      ]
     },
     "execution_count": 81,
     "metadata": {},
     "output_type": "execute_result"
    }
   ],
   "source": [
    "my_series[[4]]"
   ]
  },
  {
   "cell_type": "code",
   "execution_count": 82,
   "metadata": {},
   "outputs": [
    {
     "data": {
      "text/plain": [
       "g    9\n",
       "dtype: int64"
      ]
     },
     "execution_count": 82,
     "metadata": {},
     "output_type": "execute_result"
    }
   ],
   "source": [
    "my_series2[['g']]"
   ]
  },
  {
   "cell_type": "code",
   "execution_count": 83,
   "metadata": {},
   "outputs": [
    {
     "data": {
      "text/plain": [
       "2     7\n",
       "3     8\n",
       "4     9\n",
       "5    10\n",
       "dtype: int64"
      ]
     },
     "execution_count": 83,
     "metadata": {},
     "output_type": "execute_result"
    }
   ],
   "source": [
    "my_series[(my_series > 6)]"
   ]
  },
  {
   "cell_type": "code",
   "execution_count": 84,
   "metadata": {},
   "outputs": [
    {
     "data": {
      "text/plain": [
       "a      5\n",
       "b      6\n",
       "c      7\n",
       "d      8\n",
       "g    151\n",
       "h     10\n",
       "dtype: int64"
      ]
     },
     "execution_count": 84,
     "metadata": {},
     "output_type": "execute_result"
    }
   ],
   "source": [
    "my_series2[['g']] = 151\n",
    "my_series2"
   ]
  },
  {
   "cell_type": "code",
   "execution_count": 85,
   "metadata": {},
   "outputs": [
    {
     "data": {
      "text/plain": [
       "letters\n",
       "a      5\n",
       "b      6\n",
       "c      7\n",
       "d      8\n",
       "g    151\n",
       "h     10\n",
       "dtype: int64"
      ]
     },
     "execution_count": 85,
     "metadata": {},
     "output_type": "execute_result"
    }
   ],
   "source": [
    "my_series2.index.name = 'letters'\n",
    "my_series2"
   ]
  },
  {
   "cell_type": "code",
   "execution_count": 86,
   "metadata": {},
   "outputs": [],
   "source": [
    "#Pandas DataFrame"
   ]
  },
  {
   "cell_type": "code",
   "execution_count": 87,
   "metadata": {},
   "outputs": [
    {
     "data": {
      "text/html": [
       "<div>\n",
       "<style scoped>\n",
       "    .dataframe tbody tr th:only-of-type {\n",
       "        vertical-align: middle;\n",
       "    }\n",
       "\n",
       "    .dataframe tbody tr th {\n",
       "        vertical-align: top;\n",
       "    }\n",
       "\n",
       "    .dataframe thead th {\n",
       "        text-align: right;\n",
       "    }\n",
       "</style>\n",
       "<table border=\"1\" class=\"dataframe\">\n",
       "  <thead>\n",
       "    <tr style=\"text-align: right;\">\n",
       "      <th></th>\n",
       "      <th>country</th>\n",
       "      <th>population</th>\n",
       "      <th>square</th>\n",
       "    </tr>\n",
       "  </thead>\n",
       "  <tbody>\n",
       "    <tr>\n",
       "      <th>Ru</th>\n",
       "      <td>Москва</td>\n",
       "      <td>23.05</td>\n",
       "      <td>2513556</td>\n",
       "    </tr>\n",
       "  </tbody>\n",
       "</table>\n",
       "</div>"
      ],
      "text/plain": [
       "   country  population   square\n",
       "Ru  Москва       23.05  2513556"
      ]
     },
     "execution_count": 87,
     "metadata": {},
     "output_type": "execute_result"
    }
   ],
   "source": [
    "df = pd.DataFrame({\n",
    "    'country': ['Москва'],\n",
    "    'population': [23.05],\n",
    "    'square': [2513556]\n",
    "})\n",
    "\n",
    "df.index = ['Ru']\n",
    "\n",
    "df"
   ]
  },
  {
   "cell_type": "code",
   "execution_count": 88,
   "metadata": {},
   "outputs": [
    {
     "data": {
      "text/plain": [
       "pandas.core.series.Series"
      ]
     },
     "execution_count": 88,
     "metadata": {},
     "output_type": "execute_result"
    }
   ],
   "source": [
    "type(df.population)"
   ]
  },
  {
   "cell_type": "code",
   "execution_count": 89,
   "metadata": {},
   "outputs": [],
   "source": [
    "# pd.read_csv('filename')\n",
    "# pd.read_sql/excel/e.t.c('filename')\n"
   ]
  },
  {
   "cell_type": "code",
   "execution_count": 90,
   "metadata": {},
   "outputs": [],
   "source": [
    "# 'nameofdf'.head/tail()"
   ]
  },
  {
   "cell_type": "code",
   "execution_count": 91,
   "metadata": {},
   "outputs": [],
   "source": [
    "#c_size = 10000\n",
    "\n",
    "#for gm_chunk in pd.read_csv('name', sep = ',',chunksize=c_size):\n",
    "#    print(gm_chunk.shape)"
   ]
  },
  {
   "cell_type": "code",
   "execution_count": 92,
   "metadata": {},
   "outputs": [
    {
     "data": {
      "text/plain": [
       "country        Москва\n",
       "population      23.05\n",
       "square        2513556\n",
       "Name: Ru, dtype: object"
      ]
     },
     "execution_count": 92,
     "metadata": {},
     "output_type": "execute_result"
    }
   ],
   "source": [
    "df.loc['Ru']"
   ]
  },
  {
   "cell_type": "code",
   "execution_count": 93,
   "metadata": {},
   "outputs": [
    {
     "data": {
      "text/plain": [
       "country        Москва\n",
       "population      23.05\n",
       "square        2513556\n",
       "Name: Ru, dtype: object"
      ]
     },
     "execution_count": 93,
     "metadata": {},
     "output_type": "execute_result"
    }
   ],
   "source": [
    "df.iloc[0]"
   ]
  },
  {
   "cell_type": "code",
   "execution_count": 94,
   "metadata": {},
   "outputs": [
    {
     "data": {
      "text/plain": [
       "Ru    Москва\n",
       "Name: country, dtype: object"
      ]
     },
     "execution_count": 94,
     "metadata": {},
     "output_type": "execute_result"
    }
   ],
   "source": [
    "df.loc[['Ru'],'country']"
   ]
  },
  {
   "cell_type": "code",
   "execution_count": 95,
   "metadata": {},
   "outputs": [
    {
     "data": {
      "text/html": [
       "<div>\n",
       "<style scoped>\n",
       "    .dataframe tbody tr th:only-of-type {\n",
       "        vertical-align: middle;\n",
       "    }\n",
       "\n",
       "    .dataframe tbody tr th {\n",
       "        vertical-align: top;\n",
       "    }\n",
       "\n",
       "    .dataframe thead th {\n",
       "        text-align: right;\n",
       "    }\n",
       "</style>\n",
       "<table border=\"1\" class=\"dataframe\">\n",
       "  <thead>\n",
       "    <tr style=\"text-align: right;\">\n",
       "      <th></th>\n",
       "      <th>country</th>\n",
       "      <th>square</th>\n",
       "    </tr>\n",
       "  </thead>\n",
       "  <tbody>\n",
       "    <tr>\n",
       "      <th>Ru</th>\n",
       "      <td>Москва</td>\n",
       "      <td>2513556</td>\n",
       "    </tr>\n",
       "  </tbody>\n",
       "</table>\n",
       "</div>"
      ],
      "text/plain": [
       "   country   square\n",
       "Ru  Москва  2513556"
      ]
     },
     "execution_count": 95,
     "metadata": {},
     "output_type": "execute_result"
    }
   ],
   "source": [
    "df[df.population > 10][['country', 'square']]"
   ]
  },
  {
   "cell_type": "code",
   "execution_count": 96,
   "metadata": {},
   "outputs": [],
   "source": [
    "df['density'] = df['population'] / df['square'] * 1000000"
   ]
  },
  {
   "cell_type": "code",
   "execution_count": 97,
   "metadata": {},
   "outputs": [
    {
     "data": {
      "text/html": [
       "<div>\n",
       "<style scoped>\n",
       "    .dataframe tbody tr th:only-of-type {\n",
       "        vertical-align: middle;\n",
       "    }\n",
       "\n",
       "    .dataframe tbody tr th {\n",
       "        vertical-align: top;\n",
       "    }\n",
       "\n",
       "    .dataframe thead th {\n",
       "        text-align: right;\n",
       "    }\n",
       "</style>\n",
       "<table border=\"1\" class=\"dataframe\">\n",
       "  <thead>\n",
       "    <tr style=\"text-align: right;\">\n",
       "      <th></th>\n",
       "      <th>country</th>\n",
       "      <th>population</th>\n",
       "      <th>square</th>\n",
       "      <th>density</th>\n",
       "    </tr>\n",
       "  </thead>\n",
       "  <tbody>\n",
       "    <tr>\n",
       "      <th>Ru</th>\n",
       "      <td>Москва</td>\n",
       "      <td>23.05</td>\n",
       "      <td>2513556</td>\n",
       "      <td>9.170275</td>\n",
       "    </tr>\n",
       "  </tbody>\n",
       "</table>\n",
       "</div>"
      ],
      "text/plain": [
       "   country  population   square   density\n",
       "Ru  Москва       23.05  2513556  9.170275"
      ]
     },
     "execution_count": 97,
     "metadata": {},
     "output_type": "execute_result"
    }
   ],
   "source": [
    "df"
   ]
  },
  {
   "cell_type": "code",
   "execution_count": 98,
   "metadata": {},
   "outputs": [
    {
     "data": {
      "text/html": [
       "<div>\n",
       "<style scoped>\n",
       "    .dataframe tbody tr th:only-of-type {\n",
       "        vertical-align: middle;\n",
       "    }\n",
       "\n",
       "    .dataframe tbody tr th {\n",
       "        vertical-align: top;\n",
       "    }\n",
       "\n",
       "    .dataframe thead th {\n",
       "        text-align: right;\n",
       "    }\n",
       "</style>\n",
       "<table border=\"1\" class=\"dataframe\">\n",
       "  <thead>\n",
       "    <tr style=\"text-align: right;\">\n",
       "      <th></th>\n",
       "      <th>country</th>\n",
       "      <th>population</th>\n",
       "      <th>square</th>\n",
       "    </tr>\n",
       "  </thead>\n",
       "  <tbody>\n",
       "    <tr>\n",
       "      <th>Ru</th>\n",
       "      <td>Москва</td>\n",
       "      <td>23.05</td>\n",
       "      <td>2513556</td>\n",
       "    </tr>\n",
       "  </tbody>\n",
       "</table>\n",
       "</div>"
      ],
      "text/plain": [
       "   country  population   square\n",
       "Ru  Москва       23.05  2513556"
      ]
     },
     "execution_count": 98,
     "metadata": {},
     "output_type": "execute_result"
    }
   ],
   "source": [
    "df.drop(['density'], axis = 1 , inplace = True)\n",
    "df"
   ]
  },
  {
   "cell_type": "code",
   "execution_count": 99,
   "metadata": {},
   "outputs": [
    {
     "data": {
      "text/html": [
       "<div>\n",
       "<style scoped>\n",
       "    .dataframe tbody tr th:only-of-type {\n",
       "        vertical-align: middle;\n",
       "    }\n",
       "\n",
       "    .dataframe tbody tr th {\n",
       "        vertical-align: top;\n",
       "    }\n",
       "\n",
       "    .dataframe thead th {\n",
       "        text-align: right;\n",
       "    }\n",
       "</style>\n",
       "<table border=\"1\" class=\"dataframe\">\n",
       "  <thead>\n",
       "    <tr style=\"text-align: right;\">\n",
       "      <th></th>\n",
       "      <th>country</th>\n",
       "      <th>pop</th>\n",
       "      <th>square</th>\n",
       "    </tr>\n",
       "  </thead>\n",
       "  <tbody>\n",
       "    <tr>\n",
       "      <th>Ru</th>\n",
       "      <td>Москва</td>\n",
       "      <td>23.05</td>\n",
       "      <td>2513556</td>\n",
       "    </tr>\n",
       "  </tbody>\n",
       "</table>\n",
       "</div>"
      ],
      "text/plain": [
       "   country    pop   square\n",
       "Ru  Москва  23.05  2513556"
      ]
     },
     "execution_count": 99,
     "metadata": {},
     "output_type": "execute_result"
    }
   ],
   "source": [
    "df = df.rename(columns = {'population': 'pop'})\n",
    "df"
   ]
  },
  {
   "cell_type": "code",
   "execution_count": 100,
   "metadata": {},
   "outputs": [
    {
     "data": {
      "text/html": [
       "<div>\n",
       "<style scoped>\n",
       "    .dataframe tbody tr th:only-of-type {\n",
       "        vertical-align: middle;\n",
       "    }\n",
       "\n",
       "    .dataframe tbody tr th {\n",
       "        vertical-align: top;\n",
       "    }\n",
       "\n",
       "    .dataframe thead th {\n",
       "        text-align: right;\n",
       "    }\n",
       "</style>\n",
       "<table border=\"1\" class=\"dataframe\">\n",
       "  <thead>\n",
       "    <tr style=\"text-align: right;\">\n",
       "      <th></th>\n",
       "      <th>country</th>\n",
       "      <th>pop</th>\n",
       "      <th>square</th>\n",
       "    </tr>\n",
       "  </thead>\n",
       "  <tbody>\n",
       "    <tr>\n",
       "      <th>Ru</th>\n",
       "      <td>Москва</td>\n",
       "      <td>23.05</td>\n",
       "      <td>2513556</td>\n",
       "    </tr>\n",
       "  </tbody>\n",
       "</table>\n",
       "</div>"
      ],
      "text/plain": [
       "   country    pop   square\n",
       "Ru  Москва  23.05  2513556"
      ]
     },
     "execution_count": 100,
     "metadata": {},
     "output_type": "execute_result"
    }
   ],
   "source": [
    "df.nlargest(3,'pop')"
   ]
  },
  {
   "cell_type": "code",
   "execution_count": 102,
   "metadata": {},
   "outputs": [
    {
     "data": {
      "text/html": [
       "<div>\n",
       "<style scoped>\n",
       "    .dataframe tbody tr th:only-of-type {\n",
       "        vertical-align: middle;\n",
       "    }\n",
       "\n",
       "    .dataframe tbody tr th {\n",
       "        vertical-align: top;\n",
       "    }\n",
       "\n",
       "    .dataframe thead th {\n",
       "        text-align: right;\n",
       "    }\n",
       "</style>\n",
       "<table border=\"1\" class=\"dataframe\">\n",
       "  <thead>\n",
       "    <tr style=\"text-align: right;\">\n",
       "      <th></th>\n",
       "      <th>name</th>\n",
       "      <th>id</th>\n",
       "      <th>nametype</th>\n",
       "      <th>recclass</th>\n",
       "      <th>mass</th>\n",
       "      <th>fall</th>\n",
       "      <th>year</th>\n",
       "      <th>reclat</th>\n",
       "      <th>reclong</th>\n",
       "      <th>GeoLocation</th>\n",
       "    </tr>\n",
       "  </thead>\n",
       "  <tbody>\n",
       "    <tr>\n",
       "      <th>0</th>\n",
       "      <td>Aachen</td>\n",
       "      <td>1</td>\n",
       "      <td>Valid</td>\n",
       "      <td>L5</td>\n",
       "      <td>21.0</td>\n",
       "      <td>Fell</td>\n",
       "      <td>1880.0</td>\n",
       "      <td>50.77500</td>\n",
       "      <td>6.08333</td>\n",
       "      <td>(50.775000, 6.083330)</td>\n",
       "    </tr>\n",
       "    <tr>\n",
       "      <th>1</th>\n",
       "      <td>Aarhus</td>\n",
       "      <td>2</td>\n",
       "      <td>Valid</td>\n",
       "      <td>H6</td>\n",
       "      <td>720.0</td>\n",
       "      <td>Fell</td>\n",
       "      <td>1951.0</td>\n",
       "      <td>56.18333</td>\n",
       "      <td>10.23333</td>\n",
       "      <td>(56.183330, 10.233330)</td>\n",
       "    </tr>\n",
       "    <tr>\n",
       "      <th>2</th>\n",
       "      <td>Abee</td>\n",
       "      <td>6</td>\n",
       "      <td>Valid</td>\n",
       "      <td>EH4</td>\n",
       "      <td>107000.0</td>\n",
       "      <td>Fell</td>\n",
       "      <td>1952.0</td>\n",
       "      <td>54.21667</td>\n",
       "      <td>-113.00000</td>\n",
       "      <td>(54.216670, -113.000000)</td>\n",
       "    </tr>\n",
       "    <tr>\n",
       "      <th>3</th>\n",
       "      <td>Acapulco</td>\n",
       "      <td>10</td>\n",
       "      <td>Valid</td>\n",
       "      <td>Acapulcoite</td>\n",
       "      <td>1914.0</td>\n",
       "      <td>Fell</td>\n",
       "      <td>1976.0</td>\n",
       "      <td>16.88333</td>\n",
       "      <td>-99.90000</td>\n",
       "      <td>(16.883330, -99.900000)</td>\n",
       "    </tr>\n",
       "    <tr>\n",
       "      <th>4</th>\n",
       "      <td>Achiras</td>\n",
       "      <td>370</td>\n",
       "      <td>Valid</td>\n",
       "      <td>L6</td>\n",
       "      <td>780.0</td>\n",
       "      <td>Fell</td>\n",
       "      <td>1902.0</td>\n",
       "      <td>-33.16667</td>\n",
       "      <td>-64.95000</td>\n",
       "      <td>(-33.166670, -64.950000)</td>\n",
       "    </tr>\n",
       "  </tbody>\n",
       "</table>\n",
       "</div>"
      ],
      "text/plain": [
       "       name   id nametype     recclass      mass  fall    year    reclat  \\\n",
       "0    Aachen    1    Valid           L5      21.0  Fell  1880.0  50.77500   \n",
       "1    Aarhus    2    Valid           H6     720.0  Fell  1951.0  56.18333   \n",
       "2      Abee    6    Valid          EH4  107000.0  Fell  1952.0  54.21667   \n",
       "3  Acapulco   10    Valid  Acapulcoite    1914.0  Fell  1976.0  16.88333   \n",
       "4   Achiras  370    Valid           L6     780.0  Fell  1902.0 -33.16667   \n",
       "\n",
       "     reclong               GeoLocation  \n",
       "0    6.08333     (50.775000, 6.083330)  \n",
       "1   10.23333    (56.183330, 10.233330)  \n",
       "2 -113.00000  (54.216670, -113.000000)  \n",
       "3  -99.90000   (16.883330, -99.900000)  \n",
       "4  -64.95000  (-33.166670, -64.950000)  "
      ]
     },
     "execution_count": 102,
     "metadata": {},
     "output_type": "execute_result"
    }
   ],
   "source": [
    "df = pd.read_csv('A:\\Загрузки\\meteorite-landings.csv', sep = ',')\n",
    "df.head()"
   ]
  },
  {
   "cell_type": "code",
   "execution_count": 106,
   "metadata": {},
   "outputs": [],
   "source": [
    "pd.set_option('display.max_columns', 10)\n",
    "pd.set_option('display.max_rows', 10)\n"
   ]
  },
  {
   "cell_type": "code",
   "execution_count": 107,
   "metadata": {},
   "outputs": [],
   "source": [
    "pd.set_option('display.precision', 3)"
   ]
  },
  {
   "cell_type": "code",
   "execution_count": 108,
   "metadata": {},
   "outputs": [
    {
     "data": {
      "text/html": [
       "<div>\n",
       "<style scoped>\n",
       "    .dataframe tbody tr th:only-of-type {\n",
       "        vertical-align: middle;\n",
       "    }\n",
       "\n",
       "    .dataframe tbody tr th {\n",
       "        vertical-align: top;\n",
       "    }\n",
       "\n",
       "    .dataframe thead th {\n",
       "        text-align: right;\n",
       "    }\n",
       "</style>\n",
       "<table border=\"1\" class=\"dataframe\">\n",
       "  <thead>\n",
       "    <tr style=\"text-align: right;\">\n",
       "      <th></th>\n",
       "      <th>name</th>\n",
       "      <th>id</th>\n",
       "      <th>nametype</th>\n",
       "      <th>recclass</th>\n",
       "      <th>mass</th>\n",
       "      <th>fall</th>\n",
       "      <th>year</th>\n",
       "      <th>reclat</th>\n",
       "      <th>reclong</th>\n",
       "      <th>GeoLocation</th>\n",
       "    </tr>\n",
       "  </thead>\n",
       "  <tbody>\n",
       "    <tr>\n",
       "      <th>0</th>\n",
       "      <td>Aachen</td>\n",
       "      <td>1</td>\n",
       "      <td>Valid</td>\n",
       "      <td>L5</td>\n",
       "      <td>21.0</td>\n",
       "      <td>Fell</td>\n",
       "      <td>1880.0</td>\n",
       "      <td>50.775</td>\n",
       "      <td>6.083</td>\n",
       "      <td>(50.775000, 6.083330)</td>\n",
       "    </tr>\n",
       "    <tr>\n",
       "      <th>1</th>\n",
       "      <td>Aarhus</td>\n",
       "      <td>2</td>\n",
       "      <td>Valid</td>\n",
       "      <td>H6</td>\n",
       "      <td>720.0</td>\n",
       "      <td>Fell</td>\n",
       "      <td>1951.0</td>\n",
       "      <td>56.183</td>\n",
       "      <td>10.233</td>\n",
       "      <td>(56.183330, 10.233330)</td>\n",
       "    </tr>\n",
       "    <tr>\n",
       "      <th>2</th>\n",
       "      <td>Abee</td>\n",
       "      <td>6</td>\n",
       "      <td>Valid</td>\n",
       "      <td>EH4</td>\n",
       "      <td>107000.0</td>\n",
       "      <td>Fell</td>\n",
       "      <td>1952.0</td>\n",
       "      <td>54.217</td>\n",
       "      <td>-113.000</td>\n",
       "      <td>(54.216670, -113.000000)</td>\n",
       "    </tr>\n",
       "    <tr>\n",
       "      <th>3</th>\n",
       "      <td>Acapulco</td>\n",
       "      <td>10</td>\n",
       "      <td>Valid</td>\n",
       "      <td>Acapulcoite</td>\n",
       "      <td>1914.0</td>\n",
       "      <td>Fell</td>\n",
       "      <td>1976.0</td>\n",
       "      <td>16.883</td>\n",
       "      <td>-99.900</td>\n",
       "      <td>(16.883330, -99.900000)</td>\n",
       "    </tr>\n",
       "    <tr>\n",
       "      <th>4</th>\n",
       "      <td>Achiras</td>\n",
       "      <td>370</td>\n",
       "      <td>Valid</td>\n",
       "      <td>L6</td>\n",
       "      <td>780.0</td>\n",
       "      <td>Fell</td>\n",
       "      <td>1902.0</td>\n",
       "      <td>-33.167</td>\n",
       "      <td>-64.950</td>\n",
       "      <td>(-33.166670, -64.950000)</td>\n",
       "    </tr>\n",
       "    <tr>\n",
       "      <th>...</th>\n",
       "      <td>...</td>\n",
       "      <td>...</td>\n",
       "      <td>...</td>\n",
       "      <td>...</td>\n",
       "      <td>...</td>\n",
       "      <td>...</td>\n",
       "      <td>...</td>\n",
       "      <td>...</td>\n",
       "      <td>...</td>\n",
       "      <td>...</td>\n",
       "    </tr>\n",
       "    <tr>\n",
       "      <th>45711</th>\n",
       "      <td>Zillah 002</td>\n",
       "      <td>31356</td>\n",
       "      <td>Valid</td>\n",
       "      <td>Eucrite</td>\n",
       "      <td>172.0</td>\n",
       "      <td>Found</td>\n",
       "      <td>1990.0</td>\n",
       "      <td>29.037</td>\n",
       "      <td>17.018</td>\n",
       "      <td>(29.037000, 17.018500)</td>\n",
       "    </tr>\n",
       "    <tr>\n",
       "      <th>45712</th>\n",
       "      <td>Zinder</td>\n",
       "      <td>30409</td>\n",
       "      <td>Valid</td>\n",
       "      <td>Pallasite, ungrouped</td>\n",
       "      <td>46.0</td>\n",
       "      <td>Found</td>\n",
       "      <td>1999.0</td>\n",
       "      <td>13.783</td>\n",
       "      <td>8.967</td>\n",
       "      <td>(13.783330, 8.966670)</td>\n",
       "    </tr>\n",
       "    <tr>\n",
       "      <th>45713</th>\n",
       "      <td>Zlin</td>\n",
       "      <td>30410</td>\n",
       "      <td>Valid</td>\n",
       "      <td>H4</td>\n",
       "      <td>3.3</td>\n",
       "      <td>Found</td>\n",
       "      <td>1939.0</td>\n",
       "      <td>49.250</td>\n",
       "      <td>17.667</td>\n",
       "      <td>(49.250000, 17.666670)</td>\n",
       "    </tr>\n",
       "    <tr>\n",
       "      <th>45714</th>\n",
       "      <td>Zubkovsky</td>\n",
       "      <td>31357</td>\n",
       "      <td>Valid</td>\n",
       "      <td>L6</td>\n",
       "      <td>2167.0</td>\n",
       "      <td>Found</td>\n",
       "      <td>2003.0</td>\n",
       "      <td>49.789</td>\n",
       "      <td>41.505</td>\n",
       "      <td>(49.789170, 41.504600)</td>\n",
       "    </tr>\n",
       "    <tr>\n",
       "      <th>45715</th>\n",
       "      <td>Zulu Queen</td>\n",
       "      <td>30414</td>\n",
       "      <td>Valid</td>\n",
       "      <td>L3.7</td>\n",
       "      <td>200.0</td>\n",
       "      <td>Found</td>\n",
       "      <td>1976.0</td>\n",
       "      <td>33.983</td>\n",
       "      <td>-115.683</td>\n",
       "      <td>(33.983330, -115.683330)</td>\n",
       "    </tr>\n",
       "  </tbody>\n",
       "</table>\n",
       "<p>45716 rows × 10 columns</p>\n",
       "</div>"
      ],
      "text/plain": [
       "             name     id nametype              recclass      mass   fall  \\\n",
       "0          Aachen      1    Valid                    L5      21.0   Fell   \n",
       "1          Aarhus      2    Valid                    H6     720.0   Fell   \n",
       "2            Abee      6    Valid                   EH4  107000.0   Fell   \n",
       "3        Acapulco     10    Valid           Acapulcoite    1914.0   Fell   \n",
       "4         Achiras    370    Valid                    L6     780.0   Fell   \n",
       "...           ...    ...      ...                   ...       ...    ...   \n",
       "45711  Zillah 002  31356    Valid               Eucrite     172.0  Found   \n",
       "45712      Zinder  30409    Valid  Pallasite, ungrouped      46.0  Found   \n",
       "45713        Zlin  30410    Valid                    H4       3.3  Found   \n",
       "45714   Zubkovsky  31357    Valid                    L6    2167.0  Found   \n",
       "45715  Zulu Queen  30414    Valid                  L3.7     200.0  Found   \n",
       "\n",
       "         year  reclat  reclong               GeoLocation  \n",
       "0      1880.0  50.775    6.083     (50.775000, 6.083330)  \n",
       "1      1951.0  56.183   10.233    (56.183330, 10.233330)  \n",
       "2      1952.0  54.217 -113.000  (54.216670, -113.000000)  \n",
       "3      1976.0  16.883  -99.900   (16.883330, -99.900000)  \n",
       "4      1902.0 -33.167  -64.950  (-33.166670, -64.950000)  \n",
       "...       ...     ...      ...                       ...  \n",
       "45711  1990.0  29.037   17.018    (29.037000, 17.018500)  \n",
       "45712  1999.0  13.783    8.967     (13.783330, 8.966670)  \n",
       "45713  1939.0  49.250   17.667    (49.250000, 17.666670)  \n",
       "45714  2003.0  49.789   41.505    (49.789170, 41.504600)  \n",
       "45715  1976.0  33.983 -115.683  (33.983330, -115.683330)  \n",
       "\n",
       "[45716 rows x 10 columns]"
      ]
     },
     "execution_count": 108,
     "metadata": {},
     "output_type": "execute_result"
    }
   ],
   "source": [
    "df"
   ]
  },
  {
   "cell_type": "code",
   "execution_count": 109,
   "metadata": {},
   "outputs": [
    {
     "data": {
      "text/html": [
       "<div>\n",
       "<style scoped>\n",
       "    .dataframe tbody tr th:only-of-type {\n",
       "        vertical-align: middle;\n",
       "    }\n",
       "\n",
       "    .dataframe tbody tr th {\n",
       "        vertical-align: top;\n",
       "    }\n",
       "\n",
       "    .dataframe thead th {\n",
       "        text-align: right;\n",
       "    }\n",
       "</style>\n",
       "<table border=\"1\" class=\"dataframe\">\n",
       "  <thead>\n",
       "    <tr style=\"text-align: right;\">\n",
       "      <th></th>\n",
       "      <th>name</th>\n",
       "      <th>nametype</th>\n",
       "      <th>recclass</th>\n",
       "      <th>fall</th>\n",
       "      <th>GeoLocation</th>\n",
       "    </tr>\n",
       "  </thead>\n",
       "  <tbody>\n",
       "    <tr>\n",
       "      <th>count</th>\n",
       "      <td>45716</td>\n",
       "      <td>45716</td>\n",
       "      <td>45716</td>\n",
       "      <td>45716</td>\n",
       "      <td>38401</td>\n",
       "    </tr>\n",
       "    <tr>\n",
       "      <th>unique</th>\n",
       "      <td>45716</td>\n",
       "      <td>2</td>\n",
       "      <td>466</td>\n",
       "      <td>2</td>\n",
       "      <td>17100</td>\n",
       "    </tr>\n",
       "    <tr>\n",
       "      <th>top</th>\n",
       "      <td>Allan Hills 88007</td>\n",
       "      <td>Valid</td>\n",
       "      <td>L6</td>\n",
       "      <td>Found</td>\n",
       "      <td>(0.000000, 0.000000)</td>\n",
       "    </tr>\n",
       "    <tr>\n",
       "      <th>freq</th>\n",
       "      <td>1</td>\n",
       "      <td>45641</td>\n",
       "      <td>8285</td>\n",
       "      <td>44609</td>\n",
       "      <td>6214</td>\n",
       "    </tr>\n",
       "  </tbody>\n",
       "</table>\n",
       "</div>"
      ],
      "text/plain": [
       "                     name nametype recclass   fall           GeoLocation\n",
       "count               45716    45716    45716  45716                 38401\n",
       "unique              45716        2      466      2                 17100\n",
       "top     Allan Hills 88007    Valid       L6  Found  (0.000000, 0.000000)\n",
       "freq                    1    45641     8285  44609                  6214"
      ]
     },
     "execution_count": 109,
     "metadata": {},
     "output_type": "execute_result"
    }
   ],
   "source": [
    "df.describe(include=['object'])"
   ]
  },
  {
   "cell_type": "code",
   "execution_count": 110,
   "metadata": {},
   "outputs": [
    {
     "data": {
      "text/html": [
       "<div>\n",
       "<style scoped>\n",
       "    .dataframe tbody tr th:only-of-type {\n",
       "        vertical-align: middle;\n",
       "    }\n",
       "\n",
       "    .dataframe tbody tr th {\n",
       "        vertical-align: top;\n",
       "    }\n",
       "\n",
       "    .dataframe thead th {\n",
       "        text-align: right;\n",
       "    }\n",
       "</style>\n",
       "<table border=\"1\" class=\"dataframe\">\n",
       "  <thead>\n",
       "    <tr style=\"text-align: right;\">\n",
       "      <th></th>\n",
       "      <th>id</th>\n",
       "      <th>mass</th>\n",
       "      <th>year</th>\n",
       "      <th>reclat</th>\n",
       "      <th>reclong</th>\n",
       "    </tr>\n",
       "  </thead>\n",
       "  <tbody>\n",
       "    <tr>\n",
       "      <th>count</th>\n",
       "      <td>45716.000</td>\n",
       "      <td>4.558e+04</td>\n",
       "      <td>45428.000</td>\n",
       "      <td>38401.000</td>\n",
       "      <td>38401.000</td>\n",
       "    </tr>\n",
       "    <tr>\n",
       "      <th>mean</th>\n",
       "      <td>26889.735</td>\n",
       "      <td>1.328e+04</td>\n",
       "      <td>1991.772</td>\n",
       "      <td>-39.123</td>\n",
       "      <td>61.074</td>\n",
       "    </tr>\n",
       "    <tr>\n",
       "      <th>std</th>\n",
       "      <td>16860.683</td>\n",
       "      <td>5.750e+05</td>\n",
       "      <td>27.181</td>\n",
       "      <td>46.379</td>\n",
       "      <td>80.647</td>\n",
       "    </tr>\n",
       "    <tr>\n",
       "      <th>min</th>\n",
       "      <td>1.000</td>\n",
       "      <td>0.000e+00</td>\n",
       "      <td>301.000</td>\n",
       "      <td>-87.367</td>\n",
       "      <td>-165.433</td>\n",
       "    </tr>\n",
       "    <tr>\n",
       "      <th>25%</th>\n",
       "      <td>12688.750</td>\n",
       "      <td>7.200e+00</td>\n",
       "      <td>1987.000</td>\n",
       "      <td>-76.714</td>\n",
       "      <td>0.000</td>\n",
       "    </tr>\n",
       "    <tr>\n",
       "      <th>50%</th>\n",
       "      <td>24261.500</td>\n",
       "      <td>3.260e+01</td>\n",
       "      <td>1998.000</td>\n",
       "      <td>-71.500</td>\n",
       "      <td>35.667</td>\n",
       "    </tr>\n",
       "    <tr>\n",
       "      <th>75%</th>\n",
       "      <td>40656.750</td>\n",
       "      <td>2.026e+02</td>\n",
       "      <td>2003.000</td>\n",
       "      <td>0.000</td>\n",
       "      <td>157.167</td>\n",
       "    </tr>\n",
       "    <tr>\n",
       "      <th>max</th>\n",
       "      <td>57458.000</td>\n",
       "      <td>6.000e+07</td>\n",
       "      <td>2501.000</td>\n",
       "      <td>81.167</td>\n",
       "      <td>354.473</td>\n",
       "    </tr>\n",
       "  </tbody>\n",
       "</table>\n",
       "</div>"
      ],
      "text/plain": [
       "              id       mass       year     reclat    reclong\n",
       "count  45716.000  4.558e+04  45428.000  38401.000  38401.000\n",
       "mean   26889.735  1.328e+04   1991.772    -39.123     61.074\n",
       "std    16860.683  5.750e+05     27.181     46.379     80.647\n",
       "min        1.000  0.000e+00    301.000    -87.367   -165.433\n",
       "25%    12688.750  7.200e+00   1987.000    -76.714      0.000\n",
       "50%    24261.500  3.260e+01   1998.000    -71.500     35.667\n",
       "75%    40656.750  2.026e+02   2003.000      0.000    157.167\n",
       "max    57458.000  6.000e+07   2501.000     81.167    354.473"
      ]
     },
     "execution_count": 110,
     "metadata": {},
     "output_type": "execute_result"
    }
   ],
   "source": [
    "df.describe()"
   ]
  },
  {
   "cell_type": "code",
   "execution_count": 111,
   "metadata": {},
   "outputs": [
    {
     "name": "stdout",
     "output_type": "stream",
     "text": [
      "<class 'pandas.core.frame.DataFrame'>\n",
      "RangeIndex: 45716 entries, 0 to 45715\n",
      "Data columns (total 10 columns):\n",
      " #   Column       Non-Null Count  Dtype  \n",
      "---  ------       --------------  -----  \n",
      " 0   name         45716 non-null  object \n",
      " 1   id           45716 non-null  int64  \n",
      " 2   nametype     45716 non-null  object \n",
      " 3   recclass     45716 non-null  object \n",
      " 4   mass         45585 non-null  float64\n",
      " 5   fall         45716 non-null  object \n",
      " 6   year         45428 non-null  float64\n",
      " 7   reclat       38401 non-null  float64\n",
      " 8   reclong      38401 non-null  float64\n",
      " 9   GeoLocation  38401 non-null  object \n",
      "dtypes: float64(4), int64(1), object(5)\n",
      "memory usage: 2.6+ MB\n",
      "None\n"
     ]
    }
   ],
   "source": [
    "print(df.info())"
   ]
  },
  {
   "cell_type": "code",
   "execution_count": 114,
   "metadata": {},
   "outputs": [
    {
     "data": {
      "text/plain": [
       "L6    8285\n",
       "H5    7142\n",
       "L5    4796\n",
       "H6    4528\n",
       "H4    4211\n",
       "Name: recclass, dtype: int64"
      ]
     },
     "execution_count": 114,
     "metadata": {},
     "output_type": "execute_result"
    }
   ],
   "source": [
    "df.recclass.value_counts()[:5]"
   ]
  },
  {
   "cell_type": "code",
   "execution_count": 115,
   "metadata": {},
   "outputs": [
    {
     "name": "stdout",
     "output_type": "stream",
     "text": [
      "Avarage memory usage for float columns: 0.28 MB\n",
      "Avarage memory usage for int columns: 0.00 MB\n",
      "Avarage memory usage for object columns: 1.41 MB\n"
     ]
    }
   ],
   "source": [
    "for dtype in ['float','int','object']:\n",
    "    selected_dtype = df.select_dtypes(include=[dtype])\n",
    "    mean_usage_b = selected_dtype.memory_usage(deep=True).mean()\n",
    "    mean_usage_mb = mean_usage_b / 1024** 2\n",
    "    print(\"Avarage memory usage for {} columns: {:03.2f} MB\".format(dtype,mean_usage_mb))"
   ]
  },
  {
   "cell_type": "code",
   "execution_count": 116,
   "metadata": {},
   "outputs": [],
   "source": [
    "df['mass'] = df['mass'].astype('float32')"
   ]
  },
  {
   "cell_type": "code",
   "execution_count": 117,
   "metadata": {},
   "outputs": [
    {
     "data": {
      "text/plain": [
       "[('name',\n",
       "  array(['Aachen', 'Aarhus', 'Abee', ..., 'Zlin', 'Zubkovsky', 'Zulu Queen'],\n",
       "        dtype=object)),\n",
       " ('id', array([    1,     2,     6, ..., 30410, 31357, 30414], dtype=int64)),\n",
       " ('nametype', array(['Valid', 'Relict'], dtype=object)),\n",
       " ('recclass',\n",
       "  array(['L5', 'H6', 'EH4', 'Acapulcoite', 'L6', 'LL3-6', 'H5', 'L',\n",
       "         'Diogenite-pm', 'Unknown', 'H4', 'H', 'Iron, IVA', 'CR2-an', 'LL5',\n",
       "         'CI1', 'L/LL4', 'Eucrite-mmict', 'CV3', 'Ureilite-an',\n",
       "         'Stone-uncl', 'L3', 'Angrite', 'LL6', 'L4', 'Aubrite',\n",
       "         'Iron, IIAB', 'Iron, IAB-sLL', 'Iron, ungrouped', 'CM2', 'OC',\n",
       "         'Mesosiderite-A1', 'LL4', 'C2-ung', 'LL3.8', 'Howardite',\n",
       "         'Eucrite-pmict', 'Diogenite', 'LL3.15', 'LL3.9', 'Iron, IAB-MG',\n",
       "         'H/L3.9', 'Iron?', 'Eucrite', 'H4-an', 'L/LL6', 'Iron, IIIAB',\n",
       "         'H/L4', 'H4-5', 'L3.7', 'LL3.4', 'Martian (chassignite)', 'EL6',\n",
       "         'H3.8', 'H3-5', 'H5-6', 'Mesosiderite', 'H5-7', 'L3-6', 'H4-6',\n",
       "         'Ureilite', 'Iron, IID', 'Mesosiderite-A3/4', 'CO3.3', 'H3',\n",
       "         'EH3/4-an', 'Iron, IIE', 'L/LL5', 'H3.7', 'CBa', 'H4/5', 'H3/4',\n",
       "         'H?', 'H3-6', 'L3.4', 'Iron, IAB-sHL', 'L3.7-6', 'EH7-an', 'Iron',\n",
       "         'CR2', 'CO3.2', 'K3', 'L5/6', 'CK4', 'Iron, IIE-an', 'L3.6',\n",
       "         'LL3.2', 'CO3.5', 'Lodranite', 'Mesosiderite-A3', 'L3-4', 'H5/6',\n",
       "         'Pallasite, PMG', 'Eucrite-cm', 'Pallasite', 'L5-6', 'CO3.6',\n",
       "         'Martian (nakhlite)', 'LL3.6', 'C3-ung', 'H3-4', 'CO3.4', 'EH3',\n",
       "         'Iron, IAB-ung', 'Winonaite', 'LL', 'Eucrite-br', 'Iron, IIF',\n",
       "         'R3.8-6', 'L4-6', 'EH5', 'LL3.00', 'H3.4', 'Martian (shergottite)',\n",
       "         'Achondrite-ung', 'LL3.3', 'C', 'H/L3.6', 'Iron, IIIAB-an', 'LL7',\n",
       "         'Mesosiderite-B2', 'LL4-6', 'CO3.7', 'L/LL6-an',\n",
       "         'Iron, IAB complex', 'Pallasite, PMG-an', 'H3.9/4', 'L3.8',\n",
       "         'LL5-6', 'LL3.8-6', 'L3.9', 'L4-5', 'L3-5', 'LL4/5', 'L4/5',\n",
       "         'H3.9', 'H3.6-6', 'H3.8-5', 'H3.8/4', 'H3.9-5', 'CH3', 'R3.8-5',\n",
       "         'L3.9/4', 'E4', 'CO3', 'Chondrite-ung', 'H~5', 'H~6', 'L/LL3.10',\n",
       "         'EL5', 'LL3', 'L~6', 'L~3', 'H~4', 'L(LL)3.5-3.7', 'Iron, IIIE-an',\n",
       "         'H3.6', 'L3.4-3.7', 'L3.5', 'CM1/2', 'Martian (OPX)', 'Brachinite',\n",
       "         'LL7(?)', 'LL6(?)', 'Eucrite-Mg rich', 'H3.5-4', 'EL3', 'R3.6',\n",
       "         'H3.5', 'CM1', 'L/LL3', 'H7', 'L(?)3', 'L3.2', 'L3.7-3.9',\n",
       "         'Mesosiderite-B1', 'LL3.7', 'CO3.0', 'LL3.5', 'L3.7-4',\n",
       "         'Eucrite-unbr', 'CV3-an', 'Lunar (anorth)', 'L3.3',\n",
       "         'Iron, IAB-sLM', 'Lunar', 'Iron, IC', 'Iron, IID-an', 'Iron, IIIE',\n",
       "         'Iron, IVA-an', 'CK6', 'L3.1', 'CK5', 'H3.3', 'H3.7-6', 'E6',\n",
       "         'H3.0', 'H3.1', 'L3.0', 'L/LL3.4', 'C6', 'LL3.0', 'Lunar (gabbro)',\n",
       "         'R4', 'C4', 'Iron, IIG', 'Iron, IIC', 'C1-ung', 'H5-an', 'EH4/5',\n",
       "         'Iron, IIIF', 'R3-6', 'Mesosiderite-B4', 'L6/7', 'Relict H',\n",
       "         'L-imp melt', 'CK3', 'H3-an', 'Iron, IVB', 'R3.8', 'L~5',\n",
       "         'Mesosiderite-an', 'Mesosiderite-A2', 'Pallasite, PES', 'C4-ung',\n",
       "         'Iron, IAB?', 'Mesosiderite-A', 'R3.5-6', 'H3.9-6',\n",
       "         'Ureilite-pmict', 'LL~6', 'CK4/5', 'EL4',\n",
       "         'Lunar (feldsp. breccia)', 'L3.9-6', 'H-an', 'L/LL3-6', 'L/LL3-5',\n",
       "         'H/L3.5', 'H/L3', 'R3-4', 'CK3-an', 'LL4-5', 'H/L6', 'L3/4',\n",
       "         'H-imp melt', 'CR', 'Chondrite-fusion crust', 'Iron, IAB-sLH',\n",
       "         'H(L)3-an', 'L(LL)3', 'H(L)3', 'R3', 'L7', 'CM-an', 'L/LL~6',\n",
       "         'L/LL~5', 'L~4', 'L/LL~4', 'LL(L)3', 'H3.2', 'L-melt breccia',\n",
       "         'H6-melt breccia', 'H5-melt breccia', 'H-melt rock', 'Eucrite-an',\n",
       "         'Lunar (bas/anor)', 'LL5/6', 'LL3/4', 'H3.4/3.5', 'Lunar (basalt)',\n",
       "         'H/L5', 'H(5?)', 'LL-imp melt', 'Mesosiderite?', 'H~4/5',\n",
       "         'L6-melt breccia', 'L3.5-3.7', 'Iron, IIAB-an', 'L3.3-3.7',\n",
       "         'L3.2-3.6', 'L3.3-3.6', 'Acapulcoite/Lodranite', 'Mesosiderite-B',\n",
       "         'CK5/6', 'L3.05', 'C2', 'C4/5', 'L/LL3.2', 'Iron, IIIAB?',\n",
       "         'L3.5-5', 'L/LL(?)3', 'H4(?)', 'Iron, IAB-sHH', 'Relict iron',\n",
       "         'EL4/5', 'L5-7', 'Diogenite-an', 'CR1', 'H5 ', 'L5 ', 'H4 ', 'L4 ',\n",
       "         'E', 'L6 ', 'H3 ', 'LL6 ', 'H-metal', 'H6 ', 'L-metal',\n",
       "         'Relict OC', 'EH', 'Mesosiderite-A4', 'L/LL5/6', 'H3.8-4', 'CBb',\n",
       "         'EL6/7', 'EL7', 'CH/CBb', 'CO3.8', 'H/L~4', 'Mesosiderite-C2',\n",
       "         'R5', 'H4/6', 'L-melt rock', 'H3.7-5', 'LL3.7-6', 'H3.7/3.8',\n",
       "         'L3.7/3.8', 'EH-imp melt', 'R', 'Fusion crust', 'Aubrite-an', 'R6',\n",
       "         'LL-melt rock', 'L3.5-3.9', 'L3.2-3.5', 'L3.3-3.5', 'L3.0-3.7',\n",
       "         'E3-an', 'K', 'E3', 'Acapulcoite/lodranite', 'CK4-an', 'L(LL)3.05',\n",
       "         'L3.10', 'CB', 'Diogenite-olivine', 'EL-melt rock', 'EH6',\n",
       "         'Pallasite, ungrouped', 'L/LL4/5', 'L3.8-an', 'Iron, IAB-an',\n",
       "         'C5/6-ung', 'CV2', 'Iron, IC-an', 'Lunar (bas. breccia)', 'L3.8-6',\n",
       "         'R3/4', 'R3.9', 'CK', 'LL3.10', 'R4/5', 'L3.8-5', 'Mesosiderite-C',\n",
       "         'Enst achon', 'H/L3-4', 'L(H)3', 'LL3.1', 'OC3', 'LL6/7', 'R3.7',\n",
       "         'CO3 ', 'CH3 ', 'LL~4', 'LL~4/5', 'L(LL)~4', 'H3.05', 'H3.10',\n",
       "         'Impact melt breccia', 'LL3-5', 'H/L3.7', 'Martian', 'CO3.1',\n",
       "         'Lunar (bas/gab brec)', 'Achondrite-prim', 'LL3-4', 'LL<3.5',\n",
       "         'CK3/4', 'CK3.8', 'L/LL-melt rock', 'H6/7', 'EL6 ',\n",
       "         'Iron, IAB-sHL-an', 'CM2-an', 'R3-5', 'L4-melt rock',\n",
       "         'L6-melt rock', 'H/L4/5', 'EL3/4', 'H/L6-melt rock',\n",
       "         'Enst achon-ung', 'L3-7', 'R3.4', 'LL3.05', 'LL4/6', 'LL3.8-4',\n",
       "         'H3.15', 'C3.0-ung', 'LL-melt breccia', 'LL6-melt breccia',\n",
       "         'L5-melt breccia', 'LL(L)3.1', 'LL6-an', 'L4-melt breccia',\n",
       "         'Howardite-an', 'H4-melt breccia', 'Martian (basaltic breccia)',\n",
       "         'L3-melt breccia', 'L~4-6', 'LL~5', 'R3.5-4', 'CR7',\n",
       "         'H-melt breccia', 'Lunar (norite)', 'L3.00', 'H3.0-3.4', 'L/LL4-6',\n",
       "         'CM', 'EH7', 'L4-an', 'E-an', 'H3.8/3.9', 'L3.9-5', 'H3.8-6',\n",
       "         'H3.4-5', 'L3.0-3.9', 'L3.5-3.8', 'H3.2-3.7', 'L3.6-4',\n",
       "         'Iron, IIE?', 'C3/4-ung', 'L/LL3.5', 'L/LL3.6/3.7', 'H/L4-5',\n",
       "         'LL~3', 'Pallasite?', 'LL5-7', 'LL3.9/4', 'H3.8-an', 'CR-an',\n",
       "         'L/LL5-6', 'L(LL)5', 'L(LL)6', 'LL3.1-3.5', 'E5', 'Lodranite-an',\n",
       "         'H3.2-6', 'H(?)4', 'E5-an', 'H3.2-an', 'EH6-an', 'Stone-ung',\n",
       "         'C1/2-ung', 'L/LL'], dtype=object)),\n",
       " ('mass',\n",
       "  array([2.100e+01, 7.200e+02, 1.070e+05, ..., 9.000e+05, 1.475e+03,\n",
       "         2.167e+03], dtype=float32)),\n",
       " ('fall', array(['Fell', 'Found'], dtype=object)),\n",
       " ('year',\n",
       "  array([1880., 1951., 1952., 1976., 1902., 1919., 1949., 1814., 1930.,\n",
       "         1920., 1974., 1925., 1769., 1838., 1959., 1981., 1957., 2001.,\n",
       "         1806., 1766., 2002., 1835., 1873., 1860., 1900., 1883., 1899.,\n",
       "         1969., 2008., 1977., 1895., 1898., 1939.,   nan, 1822., 1869.,\n",
       "         1942., 1971., 1984., 1914., 1803., 1954., 1932., 1950., 1805.,\n",
       "         2009., 1923., 1886., 1896., 1933., 1945., 1836., 1865., 1842.,\n",
       "         1858., 1908., 1855., 1968., 1938., 1934., 1929., 1922., 1907.,\n",
       "         1993., 1871., 1892., 1913., 1790., 1704., 1904., 1910., 1965.,\n",
       "         2006., 1994., 2012., 1989., 1916., 1893., 1961., 1937., 1798.,\n",
       "         2004., 1943., 1924., 1811., 1859., 1921., 1877., 1940., 1905.,\n",
       "         1827., 1887., 1999., 1843., 1796., 1941., 1906., 1909., 1833.,\n",
       "         1804., 1962., 1808., 1894., 1852., 1812., 1823., 2003., 2011.,\n",
       "         1847., 1956., 1960., 1964., 2007., 1990., 1946., 1863., 1861.,\n",
       "         1870., 1991., 1866., 1973., 1846., 1874., 1791., 1848., 1583.,\n",
       "         1810., 1988., 1840., 1998., 1885., 1834., 1815., 1841., 2013.,\n",
       "         1901., 1966., 1978., 1979., 1917., 1890., 1844., 1936., 1878.,\n",
       "         1868., 1829., 1897., 1911., 1967., 1884., 1903., 1864., 1995.,\n",
       "         1970., 1853., 1872., 1947., 1785., 1399., 1491., 1889., 1837.,\n",
       "         1879., 1875., 1996., 1944., 1882., 1654., 1826., 2000., 1918.,\n",
       "         1881., 1983., 1980., 1891., 1972., 1982., 1851., 1817., 1628.,\n",
       "         1857., 1912., 1825., 1963., 1751., 2010., 1975., 1928., 1926.,\n",
       "         1621., 1819., 1997., 1876., 1821., 1955., 1850., 1787., 1867.,\n",
       "         1809., 1986., 1931., 1985., 1987., 1830., 1845., 1813., 1854.,\n",
       "         1839., 1820., 1935., 1768., 1753., 1927., 1948., 1801., 1992.,\n",
       "         1953., 1915., 1862., 1632., 1849., 1637., 1795.,  920., 1750.,\n",
       "          860., 1662., 1741., 1958., 1519., 1671., 1856., 1775., 1779.,\n",
       "         1723., 1740., 1824., 1828., 1490., 1636., 1688., 1715., 1773.,\n",
       "         1818., 1794., 1647., 1623., 1807., 1668., 1495., 1831., 2005.,\n",
       "         1888., 1784., 1575., 1793.,  301., 1749., 1781., 1600., 2101.,\n",
       "         1797., 1716., 1724., 1776., 2501., 1832.,  601., 1792.])),\n",
       " ('reclat',\n",
       "  array([50.775  , 56.18333, 54.21667, ..., 31.2    , 29.037  , 49.78917])),\n",
       " ('reclong',\n",
       "  array([   6.08333,   10.23333, -113.     , ...,    8.96667,   41.5046 ,\n",
       "         -115.68333])),\n",
       " ('GeoLocation',\n",
       "  array(['(50.775000, 6.083330)', '(56.183330, 10.233330)',\n",
       "         '(54.216670, -113.000000)', ..., '(49.250000, 17.666670)',\n",
       "         '(49.789170, 41.504600)', '(33.983330, -115.683330)'], dtype=object))]"
      ]
     },
     "execution_count": 117,
     "metadata": {},
     "output_type": "execute_result"
    }
   ],
   "source": [
    "[(col,df[col].unique()) for col in df.columns]"
   ]
  },
  {
   "cell_type": "code",
   "execution_count": 118,
   "metadata": {},
   "outputs": [
    {
     "data": {
      "text/html": [
       "<div>\n",
       "<style scoped>\n",
       "    .dataframe tbody tr th:only-of-type {\n",
       "        vertical-align: middle;\n",
       "    }\n",
       "\n",
       "    .dataframe tbody tr th {\n",
       "        vertical-align: top;\n",
       "    }\n",
       "\n",
       "    .dataframe thead th {\n",
       "        text-align: right;\n",
       "    }\n",
       "</style>\n",
       "<table border=\"1\" class=\"dataframe\">\n",
       "  <thead>\n",
       "    <tr style=\"text-align: right;\">\n",
       "      <th></th>\n",
       "      <th>name</th>\n",
       "      <th>id</th>\n",
       "      <th>nametype</th>\n",
       "      <th>recclass</th>\n",
       "      <th>mass</th>\n",
       "      <th>fall</th>\n",
       "      <th>year</th>\n",
       "      <th>reclat</th>\n",
       "      <th>reclong</th>\n",
       "      <th>GeoLocation</th>\n",
       "    </tr>\n",
       "  </thead>\n",
       "  <tbody>\n",
       "    <tr>\n",
       "      <th>27673</th>\n",
       "      <td>Northwest Africa 2656</td>\n",
       "      <td>32485</td>\n",
       "      <td>Valid</td>\n",
       "      <td>Acapulcoite</td>\n",
       "      <td>7500.0</td>\n",
       "      <td>Found</td>\n",
       "      <td>2003.0</td>\n",
       "      <td>NaN</td>\n",
       "      <td>NaN</td>\n",
       "      <td>NaN</td>\n",
       "    </tr>\n",
       "    <tr>\n",
       "      <th>30353</th>\n",
       "      <td>Northwest Africa 725</td>\n",
       "      <td>17807</td>\n",
       "      <td>Valid</td>\n",
       "      <td>Acapulcoite</td>\n",
       "      <td>3824.0</td>\n",
       "      <td>Found</td>\n",
       "      <td>NaN</td>\n",
       "      <td>30.6</td>\n",
       "      <td>-5.05</td>\n",
       "      <td>(30.600000, -5.050000)</td>\n",
       "    </tr>\n",
       "  </tbody>\n",
       "</table>\n",
       "</div>"
      ],
      "text/plain": [
       "                        name     id nametype     recclass    mass   fall  \\\n",
       "27673  Northwest Africa 2656  32485    Valid  Acapulcoite  7500.0  Found   \n",
       "30353   Northwest Africa 725  17807    Valid  Acapulcoite  3824.0  Found   \n",
       "\n",
       "         year  reclat  reclong             GeoLocation  \n",
       "27673  2003.0     NaN      NaN                     NaN  \n",
       "30353     NaN    30.6    -5.05  (30.600000, -5.050000)  "
      ]
     },
     "execution_count": 118,
     "metadata": {},
     "output_type": "execute_result"
    }
   ],
   "source": [
    "df.sort_values(by=['recclass', 'mass'], ascending=[True, False]).head(2)"
   ]
  },
  {
   "cell_type": "code",
   "execution_count": 119,
   "metadata": {},
   "outputs": [
    {
     "data": {
      "text/html": [
       "<div>\n",
       "<style scoped>\n",
       "    .dataframe tbody tr th:only-of-type {\n",
       "        vertical-align: middle;\n",
       "    }\n",
       "\n",
       "    .dataframe tbody tr th {\n",
       "        vertical-align: top;\n",
       "    }\n",
       "\n",
       "    .dataframe thead th {\n",
       "        text-align: right;\n",
       "    }\n",
       "</style>\n",
       "<table border=\"1\" class=\"dataframe\">\n",
       "  <thead>\n",
       "    <tr style=\"text-align: right;\">\n",
       "      <th></th>\n",
       "      <th>name</th>\n",
       "      <th>id</th>\n",
       "      <th>nametype</th>\n",
       "      <th>recclass</th>\n",
       "      <th>mass</th>\n",
       "      <th>fall</th>\n",
       "      <th>year</th>\n",
       "      <th>reclat</th>\n",
       "      <th>reclong</th>\n",
       "      <th>GeoLocation</th>\n",
       "    </tr>\n",
       "  </thead>\n",
       "  <tbody>\n",
       "    <tr>\n",
       "      <th>0</th>\n",
       "      <td>Aachen</td>\n",
       "      <td>1</td>\n",
       "      <td>Valid</td>\n",
       "      <td>L5</td>\n",
       "      <td>21.0</td>\n",
       "      <td>Fell</td>\n",
       "      <td>1880.0</td>\n",
       "      <td>50.775</td>\n",
       "      <td>6.083</td>\n",
       "      <td>(50.775000, 6.083330)</td>\n",
       "    </tr>\n",
       "    <tr>\n",
       "      <th>1</th>\n",
       "      <td>Aarhus</td>\n",
       "      <td>2</td>\n",
       "      <td>Valid</td>\n",
       "      <td>H6</td>\n",
       "      <td>720.0</td>\n",
       "      <td>Fell</td>\n",
       "      <td>1951.0</td>\n",
       "      <td>56.183</td>\n",
       "      <td>10.233</td>\n",
       "      <td>(56.183330, 10.233330)</td>\n",
       "    </tr>\n",
       "    <tr>\n",
       "      <th>2</th>\n",
       "      <td>Abee</td>\n",
       "      <td>6</td>\n",
       "      <td>Valid</td>\n",
       "      <td>EH4</td>\n",
       "      <td>107000.0</td>\n",
       "      <td>Fell</td>\n",
       "      <td>1952.0</td>\n",
       "      <td>54.217</td>\n",
       "      <td>-113.000</td>\n",
       "      <td>(54.216670, -113.000000)</td>\n",
       "    </tr>\n",
       "    <tr>\n",
       "      <th>3</th>\n",
       "      <td>Acapulco</td>\n",
       "      <td>10</td>\n",
       "      <td>Valid</td>\n",
       "      <td>Acapulcoite</td>\n",
       "      <td>1914.0</td>\n",
       "      <td>Fell</td>\n",
       "      <td>1976.0</td>\n",
       "      <td>16.883</td>\n",
       "      <td>-99.900</td>\n",
       "      <td>(16.883330, -99.900000)</td>\n",
       "    </tr>\n",
       "    <tr>\n",
       "      <th>4</th>\n",
       "      <td>Achiras</td>\n",
       "      <td>370</td>\n",
       "      <td>Valid</td>\n",
       "      <td>L6</td>\n",
       "      <td>780.0</td>\n",
       "      <td>Fell</td>\n",
       "      <td>1902.0</td>\n",
       "      <td>-33.167</td>\n",
       "      <td>-64.950</td>\n",
       "      <td>(-33.166670, -64.950000)</td>\n",
       "    </tr>\n",
       "    <tr>\n",
       "      <th>5</th>\n",
       "      <td>Adhi Kot</td>\n",
       "      <td>379</td>\n",
       "      <td>Valid</td>\n",
       "      <td>EH4</td>\n",
       "      <td>4239.0</td>\n",
       "      <td>Fell</td>\n",
       "      <td>1919.0</td>\n",
       "      <td>32.100</td>\n",
       "      <td>71.800</td>\n",
       "      <td>(32.100000, 71.800000)</td>\n",
       "    </tr>\n",
       "  </tbody>\n",
       "</table>\n",
       "</div>"
      ],
      "text/plain": [
       "       name   id nametype     recclass      mass  fall    year  reclat  \\\n",
       "0    Aachen    1    Valid           L5      21.0  Fell  1880.0  50.775   \n",
       "1    Aarhus    2    Valid           H6     720.0  Fell  1951.0  56.183   \n",
       "2      Abee    6    Valid          EH4  107000.0  Fell  1952.0  54.217   \n",
       "3  Acapulco   10    Valid  Acapulcoite    1914.0  Fell  1976.0  16.883   \n",
       "4   Achiras  370    Valid           L6     780.0  Fell  1902.0 -33.167   \n",
       "5  Adhi Kot  379    Valid          EH4    4239.0  Fell  1919.0  32.100   \n",
       "\n",
       "   reclong               GeoLocation  \n",
       "0    6.083     (50.775000, 6.083330)  \n",
       "1   10.233    (56.183330, 10.233330)  \n",
       "2 -113.000  (54.216670, -113.000000)  \n",
       "3  -99.900   (16.883330, -99.900000)  \n",
       "4  -64.950  (-33.166670, -64.950000)  \n",
       "5   71.800    (32.100000, 71.800000)  "
      ]
     },
     "execution_count": 119,
     "metadata": {},
     "output_type": "execute_result"
    }
   ],
   "source": [
    "df.loc[0:5,:]"
   ]
  },
  {
   "cell_type": "code",
   "execution_count": null,
   "metadata": {},
   "outputs": [],
   "source": []
  }
 ],
 "metadata": {
  "kernelspec": {
   "display_name": "Python 3",
   "language": "python",
   "name": "python3"
  },
  "language_info": {
   "codemirror_mode": {
    "name": "ipython",
    "version": 3
   },
   "file_extension": ".py",
   "mimetype": "text/x-python",
   "name": "python",
   "nbconvert_exporter": "python",
   "pygments_lexer": "ipython3",
   "version": "3.8.2"
  }
 },
 "nbformat": 4,
 "nbformat_minor": 4
}
